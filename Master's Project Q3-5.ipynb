{
 "cells": [
  {
   "cell_type": "code",
   "execution_count": 2,
   "metadata": {},
   "outputs": [],
   "source": [
    "import pandas as pd\n",
    "import warnings\n",
    "\n",
    "warnings.filterwarnings('ignore')\n",
    "\n",
    "pd.set_option('display.max_rows', None)\n",
    "pd.set_option('display.max_columns', None)\n",
    "\n",
    "hours = pd.read_excel('Data/Consulting Hours.xlsx')\n",
    "capital = pd.read_excel('Data/Capital Milestones.xlsx')\n",
    "established = pd.read_excel('Data/Business Established.xlsx')"
   ]
  },
  {
   "cell_type": "code",
   "execution_count": 3,
   "metadata": {},
   "outputs": [],
   "source": [
    "hours = hours.dropna(subset='Client ID')\n",
    "capital = capital.dropna(subset='Client ID')\n",
    "established = established.dropna(subset='Client ID')"
   ]
  },
  {
   "cell_type": "code",
   "execution_count": 4,
   "metadata": {},
   "outputs": [
    {
     "data": {
      "text/html": [
       "<div>\n",
       "<style scoped>\n",
       "    .dataframe tbody tr th:only-of-type {\n",
       "        vertical-align: middle;\n",
       "    }\n",
       "\n",
       "    .dataframe tbody tr th {\n",
       "        vertical-align: top;\n",
       "    }\n",
       "\n",
       "    .dataframe thead th {\n",
       "        text-align: right;\n",
       "    }\n",
       "</style>\n",
       "<table border=\"1\" class=\"dataframe\">\n",
       "  <thead>\n",
       "    <tr style=\"text-align: right;\">\n",
       "      <th></th>\n",
       "      <th>Session Date</th>\n",
       "      <th>Client ID</th>\n",
       "      <th>Counselor</th>\n",
       "      <th>Session Type</th>\n",
       "      <th>Contact Type</th>\n",
       "      <th>Prep+Contact</th>\n",
       "      <th>Total Hours</th>\n",
       "      <th>Reporting Date</th>\n",
       "      <th>Client ID</th>\n",
       "      <th>Funding Type</th>\n",
       "      <th>Completion Status</th>\n",
       "      <th>Amount Approved</th>\n",
       "    </tr>\n",
       "  </thead>\n",
       "  <tbody>\n",
       "    <tr>\n",
       "      <th>0</th>\n",
       "      <td>2013-01-02</td>\n",
       "      <td>L3155</td>\n",
       "      <td>Zimmerman, Zack</td>\n",
       "      <td>Administrative</td>\n",
       "      <td>eCenter</td>\n",
       "      <td>0.25</td>\n",
       "      <td>0.25</td>\n",
       "      <td>None</td>\n",
       "      <td>None</td>\n",
       "      <td>None</td>\n",
       "      <td>None</td>\n",
       "      <td>NaN</td>\n",
       "    </tr>\n",
       "    <tr>\n",
       "      <th>1</th>\n",
       "      <td>2013-01-02</td>\n",
       "      <td>L3221</td>\n",
       "      <td>Zimmerman, Zack</td>\n",
       "      <td>Administrative</td>\n",
       "      <td>eCenter</td>\n",
       "      <td>0.25</td>\n",
       "      <td>0.25</td>\n",
       "      <td>None</td>\n",
       "      <td>None</td>\n",
       "      <td>None</td>\n",
       "      <td>None</td>\n",
       "      <td>NaN</td>\n",
       "    </tr>\n",
       "    <tr>\n",
       "      <th>2</th>\n",
       "      <td>2013-01-02</td>\n",
       "      <td>L3222</td>\n",
       "      <td>Zimmerman, Zack</td>\n",
       "      <td>Administrative</td>\n",
       "      <td>eCenter</td>\n",
       "      <td>0.25</td>\n",
       "      <td>0.25</td>\n",
       "      <td>None</td>\n",
       "      <td>None</td>\n",
       "      <td>None</td>\n",
       "      <td>None</td>\n",
       "      <td>NaN</td>\n",
       "    </tr>\n",
       "    <tr>\n",
       "      <th>3</th>\n",
       "      <td>2013-01-02</td>\n",
       "      <td>N1169</td>\n",
       "      <td>Tuller, Jason</td>\n",
       "      <td>Initial/New</td>\n",
       "      <td>Center Site (face-to-face)</td>\n",
       "      <td>2.50</td>\n",
       "      <td>2.50</td>\n",
       "      <td>None</td>\n",
       "      <td>None</td>\n",
       "      <td>None</td>\n",
       "      <td>None</td>\n",
       "      <td>NaN</td>\n",
       "    </tr>\n",
       "    <tr>\n",
       "      <th>4</th>\n",
       "      <td>2013-01-02</td>\n",
       "      <td>O8789</td>\n",
       "      <td>Munoz, Luis</td>\n",
       "      <td>Administrative</td>\n",
       "      <td>eCenter</td>\n",
       "      <td>0.25</td>\n",
       "      <td>0.25</td>\n",
       "      <td>None</td>\n",
       "      <td>None</td>\n",
       "      <td>None</td>\n",
       "      <td>None</td>\n",
       "      <td>NaN</td>\n",
       "    </tr>\n",
       "  </tbody>\n",
       "</table>\n",
       "</div>"
      ],
      "text/plain": [
       "  Session Date Client ID        Counselor    Session Type  \\\n",
       "0   2013-01-02     L3155  Zimmerman, Zack  Administrative   \n",
       "1   2013-01-02     L3221  Zimmerman, Zack  Administrative   \n",
       "2   2013-01-02     L3222  Zimmerman, Zack  Administrative   \n",
       "3   2013-01-02     N1169    Tuller, Jason     Initial/New   \n",
       "4   2013-01-02     O8789      Munoz, Luis  Administrative   \n",
       "\n",
       "                 Contact Type  Prep+Contact  Total Hours Reporting Date  \\\n",
       "0                     eCenter          0.25         0.25           None   \n",
       "1                     eCenter          0.25         0.25           None   \n",
       "2                     eCenter          0.25         0.25           None   \n",
       "3  Center Site (face-to-face)          2.50         2.50           None   \n",
       "4                     eCenter          0.25         0.25           None   \n",
       "\n",
       "  Client ID Funding Type Completion Status  Amount Approved  \n",
       "0      None         None              None              NaN  \n",
       "1      None         None              None              NaN  \n",
       "2      None         None              None              NaN  \n",
       "3      None         None              None              NaN  \n",
       "4      None         None              None              NaN  "
      ]
     },
     "execution_count": 4,
     "metadata": {},
     "output_type": "execute_result"
    }
   ],
   "source": [
    "import pandasql as pds\n",
    "\n",
    "query = \"\"\"\n",
    "SELECT hours.*, capital.*\n",
    "FROM hours\n",
    "LEFT JOIN capital\n",
    "ON hours.\"Client ID\" = capital.\"Client ID\"\n",
    "ORDER BY hours.\"Session Date\"\n",
    "\"\"\"\n",
    "\n",
    "bus_capital = pds.sqldf(query, locals())\n",
    "bus_capital['Session Date'] = pd.to_datetime(bus_capital['Session Date'])\n",
    "bus_capital.head()"
   ]
  },
  {
   "cell_type": "code",
   "execution_count": 5,
   "metadata": {},
   "outputs": [
    {
     "name": "stdout",
     "output_type": "stream",
     "text": [
      "{'Withdrawn', 'Approved', 'In Progress', None}\n",
      "{'COVID-19 Other SBA Disaster Loan', 'COVID-19 Paycheck Protection Program (SBA)', 'Certified Development Loan (CDC)', 'Community Advantage', 'Line of Credit', 'SEED Capital Fund', 'COVID-19 Shuttered Venue Operators (SVO) Grant', 'Community Express Loan', 'Private Loan', 'SBA Loan', None, 'Owner Investment', 'COVID-19 Economic Injury Disaster Loan (SBA)', 'COVID-19 Restaurant Revitalization Fund (RRF)', 'SBIR - Phase I w/STATE', 'Other Equity Investment', 'Micro-Loan', 'OSBN Other Fund', 'Seller Financing', 'Other Federal Loan', 'Commercial (Bank) Loan', 'Venture Capital', 'Community Dev. Block Grant (CDBG)', 'Stock Investment', 'Pre-Seed Grant (Prototyping) w/STATE', 'OTHER (All Other Type Loans)'}\n"
     ]
    }
   ],
   "source": [
    "print(set(bus_capital['Completion Status']))\n",
    "print(set(bus_capital['Funding Type']))"
   ]
  },
  {
   "cell_type": "code",
   "execution_count": 6,
   "metadata": {},
   "outputs": [],
   "source": [
    "query = \"\"\"\n",
    "SELECT \n",
    "    \"Client ID\",\n",
    "    COUNT(\"Reporting Date\") AS total_sessions,\n",
    "    SUM(\"Total Hours\") AS total_hours\n",
    "FROM bus_capital\n",
    "WHERE \"Session Date\" <= \"Reporting Date\"\n",
    "GROUP BY \"Client ID\"\n",
    "\"\"\"\n",
    "\n",
    "client_funding_summary = pds.sqldf(query, locals())"
   ]
  },
  {
   "cell_type": "code",
   "execution_count": 7,
   "metadata": {},
   "outputs": [
    {
     "name": "stdout",
     "output_type": "stream",
     "text": [
      "Average sessions before funding: 22.64\n",
      "Average hours before funding: 39.94\n"
     ]
    }
   ],
   "source": [
    "average_sessions_query = \"\"\"\n",
    "SELECT AVG(total_sessions) AS avg_sessions\n",
    "FROM client_funding_summary\n",
    "\"\"\"\n",
    "average_hours_query = \"\"\"\n",
    "SELECT AVG(total_hours) AS avg_hours\n",
    "FROM client_funding_summary\n",
    "\"\"\"\n",
    "\n",
    "avg_sessions = pds.sqldf(average_sessions_query, locals())\n",
    "avg_hours = pds.sqldf(average_hours_query, locals())\n",
    "\n",
    "print(f\"Average sessions before funding: {avg_sessions['avg_sessions'][0]:.2f}\")\n",
    "print(f\"Average hours before funding: {avg_hours['avg_hours'][0]:.2f}\")"
   ]
  },
  {
   "cell_type": "markdown",
   "metadata": {},
   "source": [
    "## Business Established"
   ]
  },
  {
   "cell_type": "code",
   "execution_count": 8,
   "metadata": {},
   "outputs": [
    {
     "data": {
      "text/html": [
       "<div>\n",
       "<style scoped>\n",
       "    .dataframe tbody tr th:only-of-type {\n",
       "        vertical-align: middle;\n",
       "    }\n",
       "\n",
       "    .dataframe tbody tr th {\n",
       "        vertical-align: top;\n",
       "    }\n",
       "\n",
       "    .dataframe thead th {\n",
       "        text-align: right;\n",
       "    }\n",
       "</style>\n",
       "<table border=\"1\" class=\"dataframe\">\n",
       "  <thead>\n",
       "    <tr style=\"text-align: right;\">\n",
       "      <th></th>\n",
       "      <th>Milestone Date</th>\n",
       "      <th>Client ID</th>\n",
       "      <th>Counselor</th>\n",
       "      <th>Type</th>\n",
       "    </tr>\n",
       "  </thead>\n",
       "  <tbody>\n",
       "    <tr>\n",
       "      <th>0</th>\n",
       "      <td>2023-12-14</td>\n",
       "      <td>O11630</td>\n",
       "      <td>Guinotte, Patrick</td>\n",
       "      <td>NewBus</td>\n",
       "    </tr>\n",
       "    <tr>\n",
       "      <th>1</th>\n",
       "      <td>2023-10-16</td>\n",
       "      <td>O11401</td>\n",
       "      <td>Babalola, Ola</td>\n",
       "      <td>NewBus</td>\n",
       "    </tr>\n",
       "    <tr>\n",
       "      <th>2</th>\n",
       "      <td>2023-09-13</td>\n",
       "      <td>O11389</td>\n",
       "      <td>Ndungutse, Patrick</td>\n",
       "      <td>NewBus</td>\n",
       "    </tr>\n",
       "    <tr>\n",
       "      <th>3</th>\n",
       "      <td>2023-08-18</td>\n",
       "      <td>O11360</td>\n",
       "      <td>Babalola, Ola</td>\n",
       "      <td>NewBus</td>\n",
       "    </tr>\n",
       "    <tr>\n",
       "      <th>4</th>\n",
       "      <td>2023-08-01</td>\n",
       "      <td>O11351</td>\n",
       "      <td>Raabe, Emma</td>\n",
       "      <td>NewBus</td>\n",
       "    </tr>\n",
       "  </tbody>\n",
       "</table>\n",
       "</div>"
      ],
      "text/plain": [
       "  Milestone Date Client ID           Counselor    Type\n",
       "0     2023-12-14    O11630   Guinotte, Patrick  NewBus\n",
       "1     2023-10-16    O11401       Babalola, Ola  NewBus\n",
       "2     2023-09-13    O11389  Ndungutse, Patrick  NewBus\n",
       "3     2023-08-18    O11360       Babalola, Ola  NewBus\n",
       "4     2023-08-01    O11351         Raabe, Emma  NewBus"
      ]
     },
     "execution_count": 8,
     "metadata": {},
     "output_type": "execute_result"
    }
   ],
   "source": [
    "established.head()"
   ]
  },
  {
   "cell_type": "code",
   "execution_count": 9,
   "metadata": {},
   "outputs": [],
   "source": [
    "established['Milestone Date'] = pd.to_datetime(established['Milestone Date'], errors='coerce')\n",
    "\n",
    "query = \"\"\"\n",
    "SELECT \n",
    "    hours.\"Client ID\",\n",
    "    COUNT(hours.\"Session Date\") AS total_sessions,\n",
    "    SUM(hours.\"Total Hours\") AS total_hours\n",
    "FROM hours\n",
    "LEFT JOIN established\n",
    "ON hours.\"Client ID\" = established.\"Client ID\"\n",
    "WHERE hours.\"Session Date\" <= established.\"Milestone Date\"\n",
    "GROUP BY hours.\"Client ID\"\n",
    "\"\"\"\n",
    "\n",
    "client_milestone_summary = pds.sqldf(query, locals())"
   ]
  },
  {
   "cell_type": "code",
   "execution_count": 10,
   "metadata": {},
   "outputs": [
    {
     "name": "stdout",
     "output_type": "stream",
     "text": [
      "Average sessions before milestone: 11.66\n",
      "Average hours before milestone: 8.36\n"
     ]
    }
   ],
   "source": [
    "average_sessions_query = \"\"\"\n",
    "SELECT AVG(total_sessions) AS avg_sessions\n",
    "FROM client_milestone_summary\n",
    "\"\"\"\n",
    "average_hours_query = \"\"\"\n",
    "SELECT AVG(total_hours) AS avg_hours\n",
    "FROM client_milestone_summary\n",
    "\"\"\"\n",
    "\n",
    "avg_sessions = pds.sqldf(average_sessions_query, locals())\n",
    "avg_hours = pds.sqldf(average_hours_query, locals())\n",
    "\n",
    "print(f\"Average sessions before milestone: {avg_sessions['avg_sessions'][0]:.2f}\")\n",
    "print(f\"Average hours before milestone: {avg_hours['avg_hours'][0]:.2f}\")"
   ]
  },
  {
   "cell_type": "code",
   "execution_count": 11,
   "metadata": {},
   "outputs": [
    {
     "data": {
      "text/plain": [
       "Index(['Session Date', 'Client ID', 'Counselor', 'Session Type',\n",
       "       'Contact Type', 'Prep+Contact', 'Total Hours'],\n",
       "      dtype='object')"
      ]
     },
     "execution_count": 11,
     "metadata": {},
     "output_type": "execute_result"
    }
   ],
   "source": [
    "hours.columns"
   ]
  },
  {
   "cell_type": "code",
   "execution_count": 12,
   "metadata": {},
   "outputs": [
    {
     "name": "stdout",
     "output_type": "stream",
     "text": [
      "2013-01-02 00:00:00\n",
      "2023-12-22 00:00:00\n"
     ]
    }
   ],
   "source": [
    "print(min(hours['Session Date']))\n",
    "print(max(hours['Session Date']))"
   ]
  }
 ],
 "metadata": {
  "kernelspec": {
   "display_name": "base",
   "language": "python",
   "name": "python3"
  },
  "language_info": {
   "codemirror_mode": {
    "name": "ipython",
    "version": 3
   },
   "file_extension": ".py",
   "mimetype": "text/x-python",
   "name": "python",
   "nbconvert_exporter": "python",
   "pygments_lexer": "ipython3",
   "version": "3.11.4"
  }
 },
 "nbformat": 4,
 "nbformat_minor": 2
}
